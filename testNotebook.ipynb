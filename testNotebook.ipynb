{
 "cells": [
  {
   "cell_type": "markdown",
   "metadata": {},
   "source": [
    "# Test notebook #\n",
    "This is just a Jupyter Notebook for testing its usability and the process of cloning, pushing and pulling."
   ]
  },
  {
   "cell_type": "markdown",
   "metadata": {},
   "source": [
    "In the following cell, complete the code in order to print the message: `Hello World!`"
   ]
  },
  {
   "cell_type": "code",
   "execution_count": null,
   "metadata": {},
   "outputs": [],
   "source": [
    "word_1 = 'Hello'\n",
    "word_2 = 'World'\n",
    "\n",
    "print()"
   ]
  },
  {
   "cell_type": "markdown",
   "metadata": {},
   "source": [
    "Write a code for converting a given temperature in degrees Celsius to degrees Fahrenheit, and printing the result in a message.<br>The formula for converting $x$ degrees Celsius into degrees Fahrenheit is\n",
    "$$(x * \\frac{9}{5}) + 32$$\n",
    "For example, if you assign 100 degrees Celsius to the `celsius` variable, the result should be 212 degrees Fahrenheit.<br>Write your code between the `celsius = 100` and the `print(...` statements."
   ]
  },
  {
   "cell_type": "code",
   "execution_count": null,
   "metadata": {},
   "outputs": [],
   "source": [
    "celsius = 100\n",
    "\n",
    "\n",
    "\n",
    "\n",
    "\n",
    "print('{} degrees Celsius equals {} degrees Fahrenheit.'.format(celsius))"
   ]
  },
  {
   "cell_type": "code",
   "execution_count": null,
   "metadata": {},
   "outputs": [],
   "source": []
  }
 ],
 "metadata": {
  "kernelspec": {
   "display_name": "Python 3",
   "language": "python",
   "name": "python3"
  },
  "language_info": {
   "codemirror_mode": {
    "name": "ipython",
    "version": 3
   },
   "file_extension": ".py",
   "mimetype": "text/x-python",
   "name": "python",
   "nbconvert_exporter": "python",
   "pygments_lexer": "ipython3",
   "version": "3.8.1"
  }
 },
 "nbformat": 4,
 "nbformat_minor": 4
}
