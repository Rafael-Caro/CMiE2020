{
 "cells": [
  {
   "cell_type": "markdown",
   "metadata": {},
   "source": [
    "# Locations in music21 and Python dictionaries\n",
    "In this notebook we will expand our konwledge of both music21 and Python. Regarding music21, we will pay specially attention to locating objects in their containing streams, but we will also have a look to how music21 handles lyrics and ties. Regarding Python, we will learn about a very powerful class, the dictionaries, which will help us to organize information with a greater degree of specificity.\n",
    "\n",
    "In this notebook, we will continue working with the score `lsxp-WoBenShi-KongChengJi.xml`. So let's load it. And since we are going to work with the music of the parts in this score, let's save each part in a corresponding variable."
   ]
  },
  {
   "cell_type": "code",
   "execution_count": null,
   "metadata": {},
   "outputs": [],
   "source": [
    "from music21 import *"
   ]
  },
  {
   "cell_type": "code",
   "execution_count": null,
   "metadata": {},
   "outputs": [],
   "source": [
    "# Path of the folder that contains the score to be loaded\n",
    "path = './lsxp-WoBenShi-KongChengJi/'\n",
    "\n",
    "# Name of the score\n",
    "file_name = 'lsxp-WoBenShi-KongChengJi.xml'\n",
    "\n",
    "# Join the path of the folder with the file name to get the full path\n",
    "fn = path + file_name\n",
    "\n",
    "# Load the score\n",
    "s = converter.parse(fn)\n",
    "\n",
    "# Retrieve parts\n",
    "p_instr = s.parts[0] # instrumental part\n",
    "p_vocal = s.parts[1] # vocal part"
   ]
  },
  {
   "cell_type": "markdown",
   "metadata": {},
   "source": [
    "## Locations in music21\n",
    "The key concept for locating objects in music21 strems is `offset`. To have an explanation about this concept, please watch [the \"Basic concepts in music21\" of the introductory video to music21](https://youtu.be/wrREb68FwNM?t=4764). We already had a glimpse of offset when we retrieved measures from a part. Let's do this again for the vocal part: retrieve all the measures and just print them out."
   ]
  },
  {
   "cell_type": "code",
   "execution_count": null,
   "metadata": {},
   "outputs": [],
   "source": [
    "mm_vocal = p_vocal.getElementsByClass('Measure').stream()\n",
    "\n",
    "for m in mm_vocal.elements:\n",
    "    print(m)"
   ]
  },
  {
   "cell_type": "markdown",
   "metadata": {},
   "source": [
    "As you see, in music21 measure streams have both a number and an offset. To retrieve this information, we can conveniently call the attributes `.number` and `.offset` on a measure stream.\n",
    "\n",
    "Let's take measure number 10. We can retrieve it by calling the method `.measure()` on the variable where we stored the vocal part, and passing the number `10` as parameter. Then, we will call the attributes `.number` and `.offset` on this variable."
   ]
  },
  {
   "cell_type": "code",
   "execution_count": null,
   "metadata": {},
   "outputs": [],
   "source": [
    "m_vocal_10 = mm_vocal.measure(10)\n",
    "\n",
    "print(\"Measure number {} of the vocal part starts at offset {}.\".format(m_vocal_10.number, m_vocal_10.offset))"
   ]
  },
  {
   "cell_type": "markdown",
   "metadata": {},
   "source": [
    "Let's now see what this measure contains."
   ]
  },
  {
   "cell_type": "code",
   "execution_count": null,
   "metadata": {},
   "outputs": [],
   "source": [
    "for e in m_vocal_10.elements:\n",
    "    print(e)"
   ]
  },
  {
   "cell_type": "markdown",
   "metadata": {},
   "source": [
    "Measure 10 only contains notes. And these notes are contained within this measure in specific offsets. We can retrieve the offset of each note by calling the `.offset` attribute on each note."
   ]
  },
  {
   "cell_type": "code",
   "execution_count": null,
   "metadata": {},
   "outputs": [],
   "source": [
    "for n in m_vocal_10.notes.stream():\n",
    "    print(\"The note {} starts at offset {}.\".format(n.nameWithOctave, n.offset))"
   ]
  },
  {
   "cell_type": "markdown",
   "metadata": {},
   "source": [
    "Notice that the offsets of the notes are related to their position within the measure stream that contains them.\n",
    "\n",
    "Let's now have a look to the offsets of the elements contained in the first measure of the score, which, in this case, has the number `0` because it is an anacrusis."
   ]
  },
  {
   "cell_type": "code",
   "execution_count": null,
   "metadata": {},
   "outputs": [],
   "source": [
    "# Retrieve the measure with the method .measure()\n",
    "m_vocal_0 = mm_vocal.measure(0)\n",
    "\n",
    "# Iterate over the elements of the measure\n",
    "for e in m_vocal_0.elements:\n",
    "    print(\"At offset {} there is a {}.\".format(e.offset, e))"
   ]
  },
  {
   "cell_type": "markdown",
   "metadata": {},
   "source": [
    "As you can see, this measure contains many elements, but none of them is a note. However, all of them are contained in the measure stream in a specific offset, the first one of the measure, and therefore, we can call the `.offset` method on them.\n",
    "\n",
    "However, we will probably won't want to work measure by measure. Instead, we will probably like to retrieve all notes from a part using the `.notes` attribute, applied to the \"flattened\" part. Let's retrieve all the notes from the vocal part, and to be sure that we did it correctly, let's open them in our score editor."
   ]
  },
  {
   "cell_type": "code",
   "execution_count": null,
   "metadata": {},
   "outputs": [],
   "source": [
    "nn_vocal = p_vocal.flat.notes.stream()\n",
    "\n",
    "nn_vocal.show()"
   ]
  },
  {
   "cell_type": "markdown",
   "metadata": {},
   "source": [
    "Now that we have all the notes of the vocal part in the stream stored in variable `nn_vocal`, let's retrieve there the notes from measure number 10, which, in `nn_vocal`, are the notes from indexes 10 to 19. To verify that these are the notes we want, let's print them out, and also show them in our score editor."
   ]
  },
  {
   "cell_type": "code",
   "execution_count": null,
   "metadata": {},
   "outputs": [],
   "source": [
    "nn_vocal_m10 = nn_vocal[10:20]\n",
    "\n",
    "for n in nn_vocal_m10:\n",
    "    print(n)\n",
    "\n",
    "nn_vocal_m10.show()"
   ]
  },
  {
   "cell_type": "markdown",
   "metadata": {},
   "source": [
    "If you showed those notes in your score editor, you will have noticed that the score editor creates few empty measures before. Why is this? Well, it has to do with the note offsets. So let's check them:"
   ]
  },
  {
   "cell_type": "code",
   "execution_count": null,
   "metadata": {},
   "outputs": [],
   "source": [
    "for n in nn_vocal_m10:\n",
    "    print(\"The note {} starts at offset {}.\".format(n.nameWithOctave, n.offset))"
   ]
  },
  {
   "cell_type": "markdown",
   "metadata": {},
   "source": [
    "As you can see, the first note starts at offset `38.0`, so the score editor, having this information, has to leave the space equivalent to 38 quarter notes free before the first note. But, why, if these are the same notes that we analysed before, the offset is now different? Because their container is also different. Previously, we retrieved these notes from their measure, so the offsets were related to that measure. However, now we are retrieving these notes from a stream that we created and saved in the variable `nn_vocal`, and this stream is created by \"flattening\" the vocal part saved in the variable `p_vocal`. Therefore, the offsets of the notes contained in `nn_vocal` are no longer related to the measure, but to the entire part.\n",
    "\n",
    "However, having the notes in this new stream doesn't mean that we lost the measure information. We can still retrieve this information by calling the `.measure` attribute on a note. Besides, we can even now in which beat of the measure a note starts, by calling the `.beat` attribute. Let's retrieve the measure and beat information from the notes of measure 10 that we saved in the variable `nn_vocal_m10`."
   ]
  },
  {
   "cell_type": "code",
   "execution_count": null,
   "metadata": {},
   "outputs": [],
   "source": [
    "for n in nn_vocal_m10:\n",
    "    print(\"The note {} is in measure {}, beat {}.\".format(n.nameWithOctave, n.measureNumber, n.beat))"
   ]
  },
  {
   "cell_type": "markdown",
   "metadata": {},
   "source": [
    "As we saw previously, everything that is contained in a measure is located in a specific position, which is indicated by an offset, but also by a beat. Therefore, all the objects contained in the first measure of the part also have measure and beat information. Let's call the `.measure` and `.beat` attributes on the objects of the first measure."
   ]
  },
  {
   "cell_type": "code",
   "execution_count": null,
   "metadata": {},
   "outputs": [],
   "source": [
    "for e in m_vocal_0.elements:\n",
    "    print(\"The element {} is in measure {}, beat {}.\".format(e, e.measureNumber, e.beat))"
   ]
  },
  {
   "cell_type": "markdown",
   "metadata": {},
   "source": [
    "As you can see, clefs, key signatures, time signatures and other objects also have information about the measure where they are contained, and in which specific beat.\n",
    "\n",
    "By the way, notice that all these objects in this anacrusis measure, which, remember, where located at offset `0.0`, are stored in beat `3.0`. This shows that music21 is aware that this first measure is an anacrusis measure, with a time signature of 4/4, in which the first two beats are missing. Great!\n",
    "\n",
    "So, as we just saw, we can retrieve information from this non-note objects. So let's look a bit more in depth on that. First, let's focus on key signature. And first of all, let's retrieve all the key signatures present in the vocal part by calling the `.getElementsByClass()` method on the \"flattened\" part. And remember, music21 likes you to keep your retrieved objects in streams.\n",
    "\n",
    "⇒ **Note**: since key signatures are stored within measures, if do not use the `.flat` attribute we could only retrieve key signature objects from a measure stream. So, if we want to retrieve all the key signatures from a part, we need to use the `.flat` attribute."
   ]
  },
  {
   "cell_type": "code",
   "execution_count": null,
   "metadata": {},
   "outputs": [],
   "source": [
    "kss = p_vocal.flat.getElementsByClass('KeySignature').stream()\n",
    "\n",
    "print('The vocal part contains {} key signatures.'.format(len(kss)))"
   ]
  },
  {
   "cell_type": "markdown",
   "metadata": {},
   "source": [
    "The vocal part of this score only contains 1 key signature. So, let's save it into a variable to better work with it."
   ]
  },
  {
   "cell_type": "code",
   "execution_count": null,
   "metadata": {},
   "outputs": [],
   "source": [
    "ks = kss[0]\n",
    "\n",
    "print(ks)"
   ]
  },
  {
   "cell_type": "markdown",
   "metadata": {},
   "source": [
    "So now that we have the key signature saved in the variable `ks`, the next cell shows some of the information that can be retrieve from it. Pay attention to all the different attributes."
   ]
  },
  {
   "cell_type": "code",
   "execution_count": null,
   "metadata": {},
   "outputs": [],
   "source": [
    "print('Offset:', ks.offset)\n",
    "print('Measure number:', ks.measureNumber)\n",
    "print('Beat:', ks.beat)\n",
    "print('Number of altered pitches:', ks.sharps)\n",
    "print('List of altered pitches:')\n",
    "for p in ks.alteredPitches:    # the attribute .alteredPitches retrieves a list of pitches\n",
    "    print('-', p.name)\n",
    "print('Major key:', ks.asKey('major'))\n",
    "print('Major key:', ks.asKey('minor'))\n",
    "print('Minor key:', ks.asKey('dorian'))"
   ]
  },
  {
   "cell_type": "markdown",
   "metadata": {},
   "source": [
    "Let's do now the same with time signatures. First, we retrieve all the time signatures in the part."
   ]
  },
  {
   "cell_type": "code",
   "execution_count": null,
   "metadata": {},
   "outputs": [],
   "source": [
    "tss = p_vocal.flat.getElementsByClass('TimeSignature').stream()\n",
    "\n",
    "print('The vocal part contains {} time sigantures.'.format(len(tss)))"
   ]
  },
  {
   "cell_type": "markdown",
   "metadata": {},
   "source": [
    "In this case, this score has two time signatures. This might be useful to know for our analysis. Luckily, even though we retrived them from the \"flattened\" part, we still can know in which measure, and even beat, each time signature is located."
   ]
  },
  {
   "cell_type": "code",
   "execution_count": null,
   "metadata": {},
   "outputs": [],
   "source": [
    "print('The first time signature is in offset {}, measure {}, beat {}.'.format(tss[0].offset, tss[0].measureNumber, tss[0].beat))\n",
    "print('The second time signature is in offset {}, measure {}, beat {}.'.format(tss[1].offset, tss[1].measureNumber, tss[1].beat))"
   ]
  },
  {
   "cell_type": "markdown",
   "metadata": {},
   "source": [
    "The most relevant information we can retrieve from a time signature is the number of beats per measure and the duration value for each beat. The former can be known from the `.numerator` of the time signature, and the latter from its `.denominator`, if we take the time signature as a fraction."
   ]
  },
  {
   "cell_type": "code",
   "execution_count": null,
   "metadata": {},
   "outputs": [],
   "source": [
    "print('The first time signature is a {}/{}.'.format(tss[0].numerator, tss[0].denominator))\n",
    "print('The second time signature is a {}/{}.'.format(tss[1].numerator, tss[1].denominator))"
   ]
  },
  {
   "cell_type": "markdown",
   "metadata": {},
   "source": [
    "⇒ **Note**: Of course, much more infortatino than this can be retrieved from a time signature. If you want to explore it, save one time signature in a variable and run the cell. Then write the name of the variable followed by a period and press the tabulator. A pop-up window will appear with all the options. You can select one and write a question mark `?` directly after it. A new window will apppear with the docstrings of that attribute or method.\n",
    "\n",
    "Finally, let's do the same for the clefs. First, we retrieve them."
   ]
  },
  {
   "cell_type": "code",
   "execution_count": null,
   "metadata": {},
   "outputs": [],
   "source": [
    "clefs = p_vocal.flat.getElementsByClass('Clef').stream()\n",
    "\n",
    "print('The vocal part contains {} clef.'.format(len(clefs)))"
   ]
  },
  {
   "cell_type": "markdown",
   "metadata": {},
   "source": [
    "To better work with the only clef of the score, we save it in a variable. Pay attention to the attributes called in the next cell."
   ]
  },
  {
   "cell_type": "code",
   "execution_count": null,
   "metadata": {},
   "outputs": [],
   "source": [
    "clef = clefs[0]\n",
    "\n",
    "print('Offset:', clef.offset)\n",
    "print('Measure number:', clef.measureNumber)\n",
    "print('Beat:', clef.beat)\n",
    "print('Name:', clef.name)\n",
    "print('Sing:', clef.sign)\n",
    "print('Line:', clef.line)"
   ]
  },
  {
   "cell_type": "markdown",
   "metadata": {},
   "source": [
    "## Lyrics and ties\n",
    "Before moving to Python dictionaries, let's briefly look at two important elements in a score: lyrics and ties."
   ]
  },
  {
   "cell_type": "markdown",
   "metadata": {},
   "source": [
    "### Lyrics\n",
    "Lyrics are specific objects in music21, and as `pitch` and `duration` objects, they are contained in the `note` objects. So to explore lyrics, let's take the first note of measure 10 and save it in a variable."
   ]
  },
  {
   "cell_type": "code",
   "execution_count": null,
   "metadata": {},
   "outputs": [],
   "source": [
    "n_m10_0 = nn_vocal_m10[0]"
   ]
  },
  {
   "cell_type": "markdown",
   "metadata": {},
   "source": [
    "We can acces the lyrics of this note by calling the attribute `.lyrics`."
   ]
  },
  {
   "cell_type": "code",
   "execution_count": null,
   "metadata": {},
   "outputs": [],
   "source": [
    "ll = n_m10_0.lyrics\n",
    "\n",
    "print(l)"
   ]
  },
  {
   "cell_type": "markdown",
   "metadata": {},
   "source": [
    "Notice that what the `.lyrics` attribute retrieves is a list, as indicated by the square brackets `[ ]`. Why would a note contain a list of lyrics? This is thought for scores of melodies sung with different lyrics, as it is the case of many folk songs. In this cases, the score gives the different stanzas of lyrics to one line of notation. As a result, one note can have more than one line of lyrics.\n",
    "\n",
    "The retrieved list from the cell above contains only one lyric object. This object has three attributes. `number` indicates the number of the line, for those notes with more than one line of lyrics. `syllabic` indicates the position of the syllable contained in that note with the word to which it belongs. If we sing the word \"Despacito\", we will sing each syllable with one note. So, in the note containing the lyric \"Des-\", the value of `syllabic` will be `begin`. In the note with the lyric \"-to\", the value of `syllabic` will be `end`. And for \"-pa-\" and \"-ci-\" the value of `syllabic` will be `middle`. In the case of monosyllabic words, as it is the case for all Chinese characters, the `syllabic` value is `single`. And finally, `text` indicates the specific string of that particular lyric.\n",
    "\n",
    "We can access each item of information by calling the corresponding attribute on the lyric object. So let's save it first in a variable, and then call all these three attributes."
   ]
  },
  {
   "cell_type": "code",
   "execution_count": null,
   "metadata": {},
   "outputs": [],
   "source": [
    "l = ll[0]\n",
    "\n",
    "print('Text:', l.text)\n",
    "print('Line:', l.number)\n",
    "print('Syllabe with respect to word:', l.syllabic)"
   ]
  },
  {
   "cell_type": "markdown",
   "metadata": {},
   "source": [
    "However, most of the time, we will be just interested in the string of lyric. So we can retrieve it directly from the note with the attribute `.lyric`."
   ]
  },
  {
   "cell_type": "code",
   "execution_count": null,
   "metadata": {},
   "outputs": [],
   "source": [
    "print('The first note of measure 10 in the vocal part hast the lyric {}.'.format(n_m10_0.lyric))"
   ]
  },
  {
   "cell_type": "markdown",
   "metadata": {},
   "source": [
    "⇒ **Note**: in the case that a note have different lines of lyrics, the `.lyric` method will return all the lyrics from different lines in a single string, separated by the new line escape sequence (`\\n`).\n",
    "\n",
    "So, now that we know how to retrieve the lyrics from notes, let's print all the lyrics of the notes from measure 10. Remember that they were stored in variable `nn_vocal_m10`."
   ]
  },
  {
   "cell_type": "code",
   "execution_count": null,
   "metadata": {},
   "outputs": [],
   "source": [
    "for n in nn_vocal_m10:\n",
    "    print(n.lyric)"
   ]
  },
  {
   "cell_type": "markdown",
   "metadata": {},
   "source": [
    "Well, not all notes have lyrics. So, maybe we could check if a note has lyric before trying to print it out."
   ]
  },
  {
   "cell_type": "code",
   "execution_count": null,
   "metadata": {},
   "outputs": [],
   "source": [
    "for n in nn_vocal_m10:\n",
    "    if n.lyric != None:\n",
    "        print(n.lyric)"
   ]
  },
  {
   "cell_type": "markdown",
   "metadata": {},
   "source": [
    "### Ties\n",
    "The duration object gives us information about how long a note is performed. However, what happens when to notes are tied? Note objects in music21 contain an attribute called `.tie` that contains the information about the note being tied or not.\n",
    "\n",
    "In our score, the last two notes of the vocal part are tied. So, let's save them in one variable each to better work with them. And just to compare them with not tied notes, let's also save the antepenultimate note in a variable."
   ]
  },
  {
   "cell_type": "code",
   "execution_count": null,
   "metadata": {},
   "outputs": [],
   "source": [
    "nx = nn_vocal[-3]\n",
    "ny = nn_vocal[-2]\n",
    "nz = nn_vocal[-1]\n",
    "\n",
    "# Print pitch and duration names to verify that we accessed the right notes\n",
    "print('The antepenultimate note is a {} {} note.'.format(nx.nameWithOctave, nx.duration.fullName))\n",
    "print('The penultimate note is a {} {} note.'.format(ny.nameWithOctave, ny.duration.fullName))\n",
    "print('The last note is a {} {} note.'.format(nz.nameWithOctave, nz.duration.fullName))"
   ]
  },
  {
   "cell_type": "markdown",
   "metadata": {},
   "source": [
    "So, to check if a note is part of a tie, we can call the attribute `.tie` on it. If if is NOT part of a tie, the value of this attribute will be `None`."
   ]
  },
  {
   "cell_type": "code",
   "execution_count": null,
   "metadata": {},
   "outputs": [],
   "source": [
    "print('Is the antepenultimate note part of a tie?', nx.tie != None)\n",
    "print('Is the penultimate note part of a tie?', ny.tie != None)\n",
    "print('Is the last note part of a tie?', nz.tie != None)"
   ]
  },
  {
   "cell_type": "markdown",
   "metadata": {},
   "source": [
    "So now that we have verify that the penultimate and last notes are part of a tie, we can even know in which part of the tie they are, either the `start` or the `stop`."
   ]
  },
  {
   "cell_type": "code",
   "execution_count": null,
   "metadata": {},
   "outputs": [],
   "source": [
    "print('The antepenultimate note is {} of a tie.'.format(ny.tie.type))\n",
    "print('The last note is {} of a tie.'.format(nz.tie.type))"
   ]
  },
  {
   "cell_type": "markdown",
   "metadata": {},
   "source": [
    "⇒ **Note**: if more than two notes are tied, the value fo the `.tie.type` attribute for the notes in the middle will be `continue`."
   ]
  },
  {
   "cell_type": "markdown",
   "metadata": {},
   "source": [
    "## Python dictionaries\n",
    "So far, we have been storing our collections of data in lists. However, Python has a more powerful way for storing data: dictionaries.\n",
    "\n",
    "Each item of data stored in a dictionary contains two elements, a `key` and a `value`. We will see in the next cell what is the meaning of this, but for the moment, let's just look at the format of a dictionary. If lits are indicated by square brackets (`[ ]`), dictionaries are defined by curly brackets (`{ }`). Then each item within the dictionary is separated by commas (`,`). And the two elements of each item, that is, the `key` and the `value` are separated by colon (`:`). The `key` always comes firts.\n",
    "\n",
    "Let's see an example. We will create a dictionary that containes personal information about a person. We will add that information as `value`s, and we will label them with a corresponding `key`."
   ]
  },
  {
   "cell_type": "code",
   "execution_count": null,
   "metadata": {},
   "outputs": [],
   "source": [
    "person_01 = {'name': 'John Smith', 'age': 35, 'height': 1.78, 'married': False}\n",
    "\n",
    "print(type(person_01))"
   ]
  },
  {
   "cell_type": "markdown",
   "metadata": {},
   "source": [
    "As you can see, we created a dictionary using the curly brackets, and we saved it in the variable `person_01`.\n",
    "\n",
    "The dictionary contains four items:\n",
    "\n",
    "1. In the first one, the `key` is `'name'` and the `value` is `'John Smith'`.\n",
    "2. In the second one, the `key` is `'age'` and the `value` is `35`.\n",
    "3. In the third one, the `key` is `'height'` and the `value` is `1.78`.\n",
    "4. In the fourth one, the `key` is `'married'` and the `value` is `False`.\n",
    "\n",
    "If we print the type of data that is contained in the variable `person_01`, we get indeed a `dict` (short form of `dictionary`).\n",
    "\n",
    "To understand the benefits of a dictionary, let's compare it with a list. We could have stored all the information about this person in a list in this way:\n",
    "\n",
    "    person_01 = ['John Smith', 35, 1.78, False]\n",
    "    \n",
    "So, if we want to retrieve any particular item of information, we will need to remember its index. However, with a dictionary, each item of information is \"labeled\" with a `key`, and we can retrieve that information, that is, that `value`, by calling its corresponding `key`. Let's see an example."
   ]
  },
  {
   "cell_type": "code",
   "execution_count": null,
   "metadata": {},
   "outputs": [],
   "source": [
    "person_01['height']"
   ]
  },
  {
   "cell_type": "markdown",
   "metadata": {},
   "source": [
    "In the previous cell, we retrieved the information about height by calling the `key` `'height'` within square brackets right next to the name of the variable in which we saved the dictionary. The format looks very similar to indexing. But with dictionaries, we don't need to remeber the index of each item of information. We can conveniently call the `key`.\n",
    "\n",
    "In fact, dictionaries do not accept indexing. If we try to retrieve the same information using the index `2` we will get an error:"
   ]
  },
  {
   "cell_type": "code",
   "execution_count": null,
   "metadata": {},
   "outputs": [],
   "source": [
    "person_01[2]"
   ]
  },
  {
   "cell_type": "markdown",
   "metadata": {},
   "source": [
    "If you noticed, the type of error we got is a `KeyError`. This means that the code didn't consider `2` as an index, but as a `key`. Since the variable `person_01` containes a dictionary, if we use square brackets after it, Python understand that we are calling a `key`, not an index.\n",
    "\n",
    "By the way, pay attention to the types of data of the values of our dictionary. The first `value` (`'John Smith'`) is a string. The second (`35`) is an integer. The third (`1.78`) is a floating point and the fourth (`False`) is a boolean. Dictionary values can be of any sort of data type. Regarding keys, in our dictionary all of them are strings, but actually, they can be of any type. For example, here's a dictionary in which the keys are integers:"
   ]
  },
  {
   "cell_type": "code",
   "execution_count": null,
   "metadata": {},
   "outputs": [],
   "source": [
    "students_per_year = {2015: 23, 2016: 25, 2017: 21, 2018: 21, 2019: 21}\n",
    "print(students_per_year)"
   ]
  },
  {
   "cell_type": "markdown",
   "metadata": {},
   "source": [
    "⇒ **Note**: even though in the dictionary saved in the variable `person_01` and in the one in `students_per_year` all the keys are of the same data type, this does not necessarily have to be so. Keys of one dictionary can be of different data types.\n",
    "\n",
    "⇒ **Note**: a dictionary can have items of information with identical values, as you can see in the previous dictionary with the values of the keys `2017`, `2018` and `2019`. However, keys cannot be repeated, they have to be unique. And this makes logical sense: if a dictionary contains two identical keys, how would Python know to which one you are referring to when you call any of those?\n",
    "\n",
    "The information of this second dictionary can be retrieved in the same way as in the first one:"
   ]
  },
  {
   "cell_type": "code",
   "execution_count": null,
   "metadata": {},
   "outputs": [],
   "source": [
    "print('How many students were there in 2018?')\n",
    "print(students_per_year[2018])"
   ]
  },
  {
   "cell_type": "markdown",
   "metadata": {},
   "source": [
    "So, let's use all the information stored in the first dictionary:"
   ]
  },
  {
   "cell_type": "code",
   "execution_count": null,
   "metadata": {},
   "outputs": [],
   "source": [
    "print('The first person is called {}.'.format(person_01['name']))\n",
    "print('He is {} years old.'.format(person_01['age']))\n",
    "print('He is {} metres tall.'.format(person_01['height']))\n",
    "# Since the value of the key 'married' is a boolean, let's print a specific message accordingly\n",
    "if person_01['married']:\n",
    "    print('He is married.')\n",
    "else:\n",
    "    print('He is not married.')"
   ]
  },
  {
   "cell_type": "markdown",
   "metadata": {},
   "source": [
    "The `value` of a specific `key` can be modified, or, better said, re-defined by using the operator `=`:"
   ]
  },
  {
   "cell_type": "code",
   "execution_count": null,
   "metadata": {},
   "outputs": [],
   "source": [
    "person_01['married'] = True\n",
    "\n",
    "if person_01['married']:\n",
    "    print('He is married.')\n",
    "else:\n",
    "    print('He is not married.')"
   ]
  },
  {
   "cell_type": "markdown",
   "metadata": {},
   "source": [
    "Now, the `value` of the `key` `'married'` is no longer `False`, but `True`."
   ]
  },
  {
   "cell_type": "code",
   "execution_count": null,
   "metadata": {},
   "outputs": [],
   "source": [
    "print(person_01)"
   ]
  },
  {
   "cell_type": "markdown",
   "metadata": {},
   "source": [
    "In fact, we can modify the values of specific keys using all the operators, attributes and methods applicable to the data type of those values. For example, the `value` of the key `age` is an integer. So we can add `2` to that integer using the operator `+=`:"
   ]
  },
  {
   "cell_type": "code",
   "execution_count": null,
   "metadata": {},
   "outputs": [],
   "source": [
    "person_01['age'] += 2\n",
    "\n",
    "print(person_01)"
   ]
  },
  {
   "cell_type": "markdown",
   "metadata": {},
   "source": [
    "We can expand our dictionaries by adding new items of information. In order to do that, we call the new `key` in square brackes right after the name of the variable that stores the dictionary, and we assign a `value` to it using the `=` operator.\n",
    "\n",
    "Let's add the hobbies of this person to our dictionary. For that, we call the variable `'hobbies'` on the dictionary saved in the variable `person_01`. That `key` doesn't exists yet in the dictionary, we will create it by assigning a `value` to it using the operator `=`.\n",
    "\n",
    "Usually, people have more than one hobby. So, since values in a dictionary can be of any data type, let's assing a list to the `key` `'hobbies'` containing all the hobbies of this person."
   ]
  },
  {
   "cell_type": "code",
   "execution_count": null,
   "metadata": {},
   "outputs": [],
   "source": [
    "person_01['hobbies'] = ['painting', 'fencing', 'gardening']\n",
    "\n",
    "print(person_01)"
   ]
  },
  {
   "cell_type": "markdown",
   "metadata": {},
   "source": [
    "Now, our dictionary contains a new `key`, `'hobbies'`, with a list as `value`.\n",
    "\n",
    "As just mentioned, values can be modified using the operators, attributes and methods that are applicable applicable to the data type of those values. Since the `value` of the `key` `'hobbies'` is a list, we can modify using any of the list methods. For example, let's add a new hobby to the list of hobbies. The way of adding an item to a list is using the `.append()` method. So, let's call this method when calling the `key` `'hobbies'` on the `person_01` dictionary."
   ]
  },
  {
   "cell_type": "code",
   "execution_count": null,
   "metadata": {},
   "outputs": [],
   "source": [
    "person_01['hobbies'].append('knitting')\n",
    "\n",
    "print(person_01)"
   ]
  },
  {
   "cell_type": "markdown",
   "metadata": {},
   "source": [
    "Let's now create two new dictionaries for containing information about two new people. However, now we will create this dictionaries starting from an empty one, and we will be adding the pairs of `key` and `value` one by one using the `=` operator."
   ]
  },
  {
   "cell_type": "code",
   "execution_count": null,
   "metadata": {},
   "outputs": [],
   "source": [
    "# Dictionary for person_02\n",
    "## Define empty dictionary\n",
    "person_02 = {}\n",
    "\n",
    "## Add information\n",
    "person_02['name'] = 'Carol Smith'\n",
    "person_02['age'] = 5\n",
    "person_02['height'] = 0.95\n",
    "\n",
    "# Dictionary for person_03\n",
    "## Define empty dictionary\n",
    "person_03 = {}\n",
    "\n",
    "## Add information\n",
    "person_03['name'] = 'Louise Smith'\n",
    "person_03['age'] = 2\n",
    "person_03['height'] = 0.51\n",
    "\n",
    "# Print the dictionaries\n",
    "print(person_02)\n",
    "print(person_03)"
   ]
  },
  {
   "cell_type": "markdown",
   "metadata": {},
   "source": [
    "Dictionaries can be as complex as you want, since they are very versatile. For example, imagine that the dictionaries we just created correspond to the daughters of the person one. So, we can add that information in the `person_01` dictionary, as a list of containing the `person_02` and `person_03` dictionaries."
   ]
  },
  {
   "cell_type": "code",
   "execution_count": null,
   "metadata": {},
   "outputs": [],
   "source": [
    "person_01['offspring'] = [person_02, person_03]\n",
    "\n",
    "print(person_01)"
   ]
  },
  {
   "cell_type": "markdown",
   "metadata": {},
   "source": [
    "And now we can very conveniently retrieve all the different items of information saved in that dictionary."
   ]
  },
  {
   "cell_type": "code",
   "execution_count": null,
   "metadata": {},
   "outputs": [],
   "source": [
    "print('The first person has {} daughters:'.format(len(person_01['offspring'])))\n",
    "\n",
    "for daughter in person_01['offspring']:\n",
    "    print('- {}, {} years old, {} meters high.'.format(daughter['name'], daughter['age'], daughter['height']))"
   ]
  },
  {
   "cell_type": "markdown",
   "metadata": {},
   "source": [
    "I hope that you started gaining an idea of the potential of dictionaries for storing and organizing information.\n",
    "\n",
    "Dictionaries, as all Python objects, have their own methods. Arguably the most used ones are the `.keys()` and `.values()` methods. Each of them respectively returns all the keys of a dictionary and all the values of a dictionary.\n",
    "\n",
    "Let's see first all the keys of our dictionary `person_01`:"
   ]
  },
  {
   "cell_type": "code",
   "execution_count": null,
   "metadata": {},
   "outputs": [],
   "source": [
    "print(person_01.keys())"
   ]
  },
  {
   "cell_type": "markdown",
   "metadata": {},
   "source": [
    "And now, all its values:"
   ]
  },
  {
   "cell_type": "code",
   "execution_count": null,
   "metadata": {},
   "outputs": [],
   "source": [
    "print(person_01.values())"
   ]
  },
  {
   "cell_type": "markdown",
   "metadata": {},
   "source": [
    "Excellent! Dictionaries are great! But, how can they help us in our musicological research.\n",
    "\n",
    "A common use is gathering information for a series of elements that were unknown a priory. For example, in exercise 2.6 from notebook 7 we could count the aggregated duration of all the pitches of the score. However, that code requires that we know beforehand the pitches contained in a score. And then, we need to create a variable for each of them, check for each note if its pitch corresponds to any of those, etc. The result, is a quite lengthy code. With dictionaries we can do the same task much more efficiently. We can create an empty dictionary, then iterate over the notes, if the note's pitch is not among the keys in our dictionary, we create it defining the duration of the note as its value, but if it alreay is among the keys, then we update its value by adding the new duration.\n",
    "\n",
    "Better seen than explained:"
   ]
  },
  {
   "cell_type": "code",
   "execution_count": null,
   "metadata": {},
   "outputs": [],
   "source": [
    "# Create empty dictionary\n",
    "pitch_durations = {}\n",
    "\n",
    "# Iterate over all notes\n",
    "for n in nn_vocal:\n",
    "    # Retrive pitch and duration\n",
    "    n_pitch = n.name\n",
    "    n_dur = n.quarterLength\n",
    "    # Check if pitch is already a key in the dictionary\n",
    "    if n_pitch not in pitch_durations.keys():\n",
    "        # Since it is not, we create the key and assign the duration as value\n",
    "        pitch_durations[n_pitch] = n_dur\n",
    "    else:\n",
    "        # Since is already is, we update its value by adding the new duration\n",
    "        pitch_durations[n_pitch] += n_dur\n",
    "\n",
    "# Print the dictionary\n",
    "print(pitch_durations)"
   ]
  },
  {
   "cell_type": "markdown",
   "metadata": {},
   "source": [
    "Besides saving coding space, now we can retrieve detailed information at our convenience. For example, how long is the pitch E peformed?"
   ]
  },
  {
   "cell_type": "code",
   "execution_count": null,
   "metadata": {},
   "outputs": [],
   "source": [
    "print('Pitch E is performed for an aggregated duration of {} quarter notes.'.format(pitch_durations['E']))"
   ]
  },
  {
   "cell_type": "markdown",
   "metadata": {},
   "source": [
    "What about the 4th and 7th degrees, in this case, A and D#?"
   ]
  },
  {
   "cell_type": "code",
   "execution_count": null,
   "metadata": {},
   "outputs": [],
   "source": [
    "print('Pitch A is performed for an aggregated duration of {} quarter notes.'.format(pitch_durations['A']))\n",
    "print('Pitch D# is performed for an aggregated duration of {} quarter notes.'.format(pitch_durations['D#']))"
   ]
  },
  {
   "cell_type": "markdown",
   "metadata": {},
   "source": [
    "Or we can even print all the information by iterating over the keys of the dictionary:"
   ]
  },
  {
   "cell_type": "code",
   "execution_count": null,
   "metadata": {},
   "outputs": [],
   "source": [
    "for p in pitch_durations.keys():\n",
    "    print('- {} is sung for {} quarter notes.'.format(p, pitch_durations[p]))"
   ]
  },
  {
   "cell_type": "code",
   "execution_count": null,
   "metadata": {},
   "outputs": [],
   "source": []
  }
 ],
 "metadata": {
  "kernelspec": {
   "display_name": "Python 3",
   "language": "python",
   "name": "python3"
  },
  "language_info": {
   "codemirror_mode": {
    "name": "ipython",
    "version": 3
   },
   "file_extension": ".py",
   "mimetype": "text/x-python",
   "name": "python",
   "nbconvert_exporter": "python",
   "pygments_lexer": "ipython3",
   "version": "3.7.4"
  }
 },
 "nbformat": 4,
 "nbformat_minor": 4
}
